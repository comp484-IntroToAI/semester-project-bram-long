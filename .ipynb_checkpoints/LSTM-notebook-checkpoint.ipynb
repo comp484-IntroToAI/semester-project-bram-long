{
 "cells": [
  {
   "cell_type": "code",
   "execution_count": null,
   "metadata": {
    "vscode": {
     "languageId": "plaintext"
    }
   },
   "outputs": [],
   "source": [
    "import torch\n",
    "import torch.nn as nn\n",
    "import numpy as np\n",
    "import matplotlib.pyplot as plt\n",
    "\n",
    "model = LSTMModel(input_dim=1, hidden_dim=100, layer_dim=1, output_dim=1)\n",
    "criterion = nn.MSELoss()\n",
    "optimizer = torch.optim.Adam(model.parameters(), lr=0.01)\n",
    "\n",
    "num_epochs = 100\n",
    "for epoch in range(num_epochs):\n",
    "    model.train()\n",
    "    outputs = model(trainX)\n",
    "    optimizer.zero_grad()\n",
    "    loss = criterion(outputs, trainY)\n",
    "    loss.backward()\n",
    "    optimizer.step()\n",
    "\n",
    "    if (epoch+1) % 10 == 0:\n",
    "        print(f'Epoch "
   ]
  },
  {
   "cell_type": "code",
   "execution_count": null,
   "metadata": {
    "vscode": {
     "languageId": "plaintext"
    }
   },
   "outputs": [],
   "source": [
    "import matplotlib.pyplot as plt\n",
    "\n",
    "# Predicted outputs\n",
    "model.eval()\n",
    "predicted = model(trainX).detach().numpy()\n",
    "\n",
    "# Adjusting the original data and prediction for plotting\n",
    "# The prediction corresponds to the point just after each sequence\n",
    "original = data[seq_length:]  # Original data from the end of the first sequence\n",
    "time_steps = np.arange(seq_length, len(data))  # Corresponding time steps\n",
    "\n",
    "plt.figure(figsize=(12, 6))\n",
    "plt.plot(time_steps, original, label='Original Data')\n",
    "plt.plot(time_steps, predicted, label='Predicted Data', linestyle='--')\n",
    "plt.title('LSTM Model Predictions vs. Original Data')\n",
    "plt.xlabel('Time Step')\n",
    "plt.ylabel('Value')\n",
    "plt.legend()\n",
    "plt.show()"
   ]
  }
 ],
 "metadata": {
  "language_info": {
   "name": "python"
  }
 },
 "nbformat": 4,
 "nbformat_minor": 2
}
